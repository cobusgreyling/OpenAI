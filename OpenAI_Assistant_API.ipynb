{
  "nbformat": 4,
  "nbformat_minor": 0,
  "metadata": {
    "colab": {
      "provenance": [],
      "authorship_tag": "ABX9TyN08D1e+nxIhPqbzMayA4Ok",
      "include_colab_link": true
    },
    "kernelspec": {
      "name": "python3",
      "display_name": "Python 3"
    },
    "language_info": {
      "name": "python"
    }
  },
  "cells": [
    {
      "cell_type": "markdown",
      "metadata": {
        "id": "view-in-github",
        "colab_type": "text"
      },
      "source": [
        "<a href=\"https://colab.research.google.com/github/cobusgreyling/OpenAI/blob/main/OpenAI_Assistant_API.ipynb\" target=\"_parent\"><img src=\"https://colab.research.google.com/assets/colab-badge.svg\" alt=\"Open In Colab\"/></a>"
      ]
    },
    {
      "cell_type": "code",
      "execution_count": 1,
      "metadata": {
        "colab": {
          "base_uri": "https://localhost:8080/"
        },
        "id": "vzjlrVm-nP8p",
        "outputId": "40a96c89-4cf4-42c1-d14d-140f4094384c"
      },
      "outputs": [
        {
          "output_type": "stream",
          "name": "stdout",
          "text": [
            "Collecting openai\n",
            "  Downloading openai-1.3.7-py3-none-any.whl (221 kB)\n",
            "\u001b[?25l     \u001b[90m━━━━━━━━━━━━━━━━━━━━━━━━━━━━━━━━━━━━━━━━\u001b[0m \u001b[32m0.0/221.4 kB\u001b[0m \u001b[31m?\u001b[0m eta \u001b[36m-:--:--\u001b[0m\r\u001b[2K     \u001b[91m━━━━━━━━━━━━━━━━━━━━\u001b[0m\u001b[90m╺\u001b[0m\u001b[90m━━━━━━━━━━━━━━━━━━━\u001b[0m \u001b[32m112.6/221.4 kB\u001b[0m \u001b[31m3.2 MB/s\u001b[0m eta \u001b[36m0:00:01\u001b[0m\r\u001b[2K     \u001b[90m━━━━━━━━━━━━━━━━━━━━━━━━━━━━━━━━━━━━━━━━\u001b[0m \u001b[32m221.4/221.4 kB\u001b[0m \u001b[31m4.1 MB/s\u001b[0m eta \u001b[36m0:00:00\u001b[0m\n",
            "\u001b[?25hRequirement already satisfied: anyio<4,>=3.5.0 in /usr/local/lib/python3.10/dist-packages (from openai) (3.7.1)\n",
            "Requirement already satisfied: distro<2,>=1.7.0 in /usr/lib/python3/dist-packages (from openai) (1.7.0)\n",
            "Collecting httpx<1,>=0.23.0 (from openai)\n",
            "  Downloading httpx-0.25.2-py3-none-any.whl (74 kB)\n",
            "\u001b[2K     \u001b[90m━━━━━━━━━━━━━━━━━━━━━━━━━━━━━━━━━━━━━━━━\u001b[0m \u001b[32m75.0/75.0 kB\u001b[0m \u001b[31m9.5 MB/s\u001b[0m eta \u001b[36m0:00:00\u001b[0m\n",
            "\u001b[?25hRequirement already satisfied: pydantic<3,>=1.9.0 in /usr/local/lib/python3.10/dist-packages (from openai) (1.10.13)\n",
            "Requirement already satisfied: sniffio in /usr/local/lib/python3.10/dist-packages (from openai) (1.3.0)\n",
            "Requirement already satisfied: tqdm>4 in /usr/local/lib/python3.10/dist-packages (from openai) (4.66.1)\n",
            "Requirement already satisfied: typing-extensions<5,>=4.5 in /usr/local/lib/python3.10/dist-packages (from openai) (4.5.0)\n",
            "Requirement already satisfied: idna>=2.8 in /usr/local/lib/python3.10/dist-packages (from anyio<4,>=3.5.0->openai) (3.6)\n",
            "Requirement already satisfied: exceptiongroup in /usr/local/lib/python3.10/dist-packages (from anyio<4,>=3.5.0->openai) (1.2.0)\n",
            "Requirement already satisfied: certifi in /usr/local/lib/python3.10/dist-packages (from httpx<1,>=0.23.0->openai) (2023.11.17)\n",
            "Collecting httpcore==1.* (from httpx<1,>=0.23.0->openai)\n",
            "  Downloading httpcore-1.0.2-py3-none-any.whl (76 kB)\n",
            "\u001b[2K     \u001b[90m━━━━━━━━━━━━━━━━━━━━━━━━━━━━━━━━━━━━━━━━\u001b[0m \u001b[32m76.9/76.9 kB\u001b[0m \u001b[31m8.8 MB/s\u001b[0m eta \u001b[36m0:00:00\u001b[0m\n",
            "\u001b[?25hCollecting h11<0.15,>=0.13 (from httpcore==1.*->httpx<1,>=0.23.0->openai)\n",
            "  Downloading h11-0.14.0-py3-none-any.whl (58 kB)\n",
            "\u001b[2K     \u001b[90m━━━━━━━━━━━━━━━━━━━━━━━━━━━━━━━━━━━━━━━━\u001b[0m \u001b[32m58.3/58.3 kB\u001b[0m \u001b[31m7.0 MB/s\u001b[0m eta \u001b[36m0:00:00\u001b[0m\n",
            "\u001b[?25hInstalling collected packages: h11, httpcore, httpx, openai\n",
            "\u001b[31mERROR: pip's dependency resolver does not currently take into account all the packages that are installed. This behaviour is the source of the following dependency conflicts.\n",
            "llmx 0.0.15a0 requires cohere, which is not installed.\n",
            "llmx 0.0.15a0 requires tiktoken, which is not installed.\u001b[0m\u001b[31m\n",
            "\u001b[0mSuccessfully installed h11-0.14.0 httpcore-1.0.2 httpx-0.25.2 openai-1.3.7\n"
          ]
        }
      ],
      "source": [
        "!pip install --upgrade openai"
      ]
    },
    {
      "cell_type": "code",
      "source": [
        "!pip show openai | grep Version"
      ],
      "metadata": {
        "colab": {
          "base_uri": "https://localhost:8080/"
        },
        "id": "upxxoiePnXIy",
        "outputId": "31ca51d3-5cbd-433c-81b2-3126b7d095c9"
      },
      "execution_count": 2,
      "outputs": [
        {
          "output_type": "stream",
          "name": "stdout",
          "text": [
            "Version: 1.3.7\n"
          ]
        }
      ]
    },
    {
      "cell_type": "code",
      "source": [
        "import json\n",
        "import os\n",
        "\n",
        "def show_json(obj):\n",
        "    display(json.loads(obj.model_dump_json()))\n",
        "\n",
        "os.environ['OPENAI_API_KEY'] = str(\"Your OpenAI API Key goes here.\")"
      ],
      "metadata": {
        "id": "YgtaQ1j6nd5g"
      },
      "execution_count": 24,
      "outputs": []
    },
    {
      "cell_type": "code",
      "source": [
        "from openai import OpenAI\n",
        "\n",
        "client = OpenAI()\n",
        "\n"
      ],
      "metadata": {
        "id": "F4sjnIgAnfyT"
      },
      "execution_count": 25,
      "outputs": []
    },
    {
      "cell_type": "code",
      "source": [
        "# You can also create Assistants directly through the Assistants API\n",
        "\n",
        "from openai import OpenAI\n",
        "\n",
        "client = OpenAI()\n",
        "\n",
        "assistant = client.beta.assistants.create(\n",
        "    name=\"History Tutor\",\n",
        "    instructions=\"You are a personal history tutor. Answer questions briefly, in three sentence or less.\",\n",
        "    model=\"gpt-4-1106-preview\",\n",
        ")\n",
        "show_json(assistant)"
      ],
      "metadata": {
        "colab": {
          "base_uri": "https://localhost:8080/",
          "height": 196
        },
        "id": "_gMXSGx6nvDV",
        "outputId": "eb748a36-8e10-478d-8b66-8ebd4f952da7"
      },
      "execution_count": 26,
      "outputs": [
        {
          "output_type": "display_data",
          "data": {
            "text/plain": [
              "{'id': 'asst_qlaTYRSyl9EWeftjKSskdaco',\n",
              " 'created_at': 1702009585,\n",
              " 'description': None,\n",
              " 'file_ids': [],\n",
              " 'instructions': 'You are a personal history tutor. Answer questions briefly, in three sentence or less.',\n",
              " 'metadata': {},\n",
              " 'model': 'gpt-4-1106-preview',\n",
              " 'name': 'History Tutor',\n",
              " 'object': 'assistant',\n",
              " 'tools': []}"
            ]
          },
          "metadata": {}
        }
      ]
    },
    {
      "cell_type": "code",
      "source": [
        "# Creating a new thread:\n",
        "\n",
        "thread = client.beta.threads.create()\n",
        "show_json(thread)"
      ],
      "metadata": {
        "colab": {
          "base_uri": "https://localhost:8080/",
          "height": 88
        },
        "id": "YMKAZZrjpWID",
        "outputId": "1813a91a-6f64-430d-b40a-6e00008485ef"
      },
      "execution_count": 27,
      "outputs": [
        {
          "output_type": "display_data",
          "data": {
            "text/plain": [
              "{'id': 'thread_1flknQB4C8KH4BDYPWsyl0no',\n",
              " 'created_at': 1702009588,\n",
              " 'metadata': {},\n",
              " 'object': 'thread'}"
            ]
          },
          "metadata": {}
        }
      ]
    },
    {
      "cell_type": "code",
      "source": [
        "# Now we add a message to the thread:\n",
        "\n",
        "message = client.beta.threads.messages.create(\n",
        "    thread_id=thread.id,\n",
        "    role=\"user\",\n",
        "    content=\"What year was the USA founded?\",\n",
        ")\n",
        "show_json(message)"
      ],
      "metadata": {
        "colab": {
          "base_uri": "https://localhost:8080/",
          "height": 231
        },
        "id": "fKudPe-apqtN",
        "outputId": "bd88c3c1-c24d-40ed-bbbc-ba2d76780674"
      },
      "execution_count": 28,
      "outputs": [
        {
          "output_type": "display_data",
          "data": {
            "text/plain": [
              "{'id': 'msg_5xOq4FV38cS98ohBpQPbpUiE',\n",
              " 'assistant_id': None,\n",
              " 'content': [{'text': {'annotations': [],\n",
              "    'value': 'What year was the USA founded?'},\n",
              "   'type': 'text'}],\n",
              " 'created_at': 1702009591,\n",
              " 'file_ids': [],\n",
              " 'metadata': {},\n",
              " 'object': 'thread.message',\n",
              " 'role': 'user',\n",
              " 'run_id': None,\n",
              " 'thread_id': 'thread_1flknQB4C8KH4BDYPWsyl0no'}"
            ]
          },
          "metadata": {}
        }
      ]
    },
    {
      "cell_type": "code",
      "source": [
        "run = client.beta.threads.runs.create(\n",
        "    thread_id=thread.id,\n",
        "    assistant_id=assistant.id,\n",
        ")\n",
        "show_json(run)"
      ],
      "metadata": {
        "colab": {
          "base_uri": "https://localhost:8080/",
          "height": 338
        },
        "id": "X-Z7jAmZqJUA",
        "outputId": "2e45b2b9-db5b-4947-c607-d8ff93e1eddc"
      },
      "execution_count": 29,
      "outputs": [
        {
          "output_type": "display_data",
          "data": {
            "text/plain": [
              "{'id': 'run_PnwSECkqDDdjWkQ5P7Hcyfor',\n",
              " 'assistant_id': 'asst_qlaTYRSyl9EWeftjKSskdaco',\n",
              " 'cancelled_at': None,\n",
              " 'completed_at': None,\n",
              " 'created_at': 1702009598,\n",
              " 'expires_at': 1702010198,\n",
              " 'failed_at': None,\n",
              " 'file_ids': [],\n",
              " 'instructions': 'You are a personal history tutor. Answer questions briefly, in three sentence or less.',\n",
              " 'last_error': None,\n",
              " 'metadata': {},\n",
              " 'model': 'gpt-4-1106-preview',\n",
              " 'object': 'thread.run',\n",
              " 'required_action': None,\n",
              " 'started_at': None,\n",
              " 'status': 'queued',\n",
              " 'thread_id': 'thread_1flknQB4C8KH4BDYPWsyl0no',\n",
              " 'tools': []}"
            ]
          },
          "metadata": {}
        }
      ]
    },
    {
      "cell_type": "code",
      "source": [
        "import time\n",
        "\n",
        "def wait_on_run(run, thread):\n",
        "    while run.status == \"queued\" or run.status == \"in_progress\":\n",
        "        run = client.beta.threads.runs.retrieve(\n",
        "            thread_id=thread.id,\n",
        "            run_id=run.id,\n",
        "        )\n",
        "        time.sleep(0.5)\n",
        "    return run"
      ],
      "metadata": {
        "id": "ps1rOURHqK6x"
      },
      "execution_count": 30,
      "outputs": []
    },
    {
      "cell_type": "code",
      "source": [
        "run = wait_on_run(run, thread)\n",
        "show_json(run)"
      ],
      "metadata": {
        "colab": {
          "base_uri": "https://localhost:8080/",
          "height": 338
        },
        "id": "SIrzIiO_qRzY",
        "outputId": "63367570-f2e7-4fa3-8bcf-cd67f329756c"
      },
      "execution_count": 31,
      "outputs": [
        {
          "output_type": "display_data",
          "data": {
            "text/plain": [
              "{'id': 'run_PnwSECkqDDdjWkQ5P7Hcyfor',\n",
              " 'assistant_id': 'asst_qlaTYRSyl9EWeftjKSskdaco',\n",
              " 'cancelled_at': None,\n",
              " 'completed_at': 1702009605,\n",
              " 'created_at': 1702009598,\n",
              " 'expires_at': None,\n",
              " 'failed_at': None,\n",
              " 'file_ids': [],\n",
              " 'instructions': 'You are a personal history tutor. Answer questions briefly, in three sentence or less.',\n",
              " 'last_error': None,\n",
              " 'metadata': {},\n",
              " 'model': 'gpt-4-1106-preview',\n",
              " 'object': 'thread.run',\n",
              " 'required_action': None,\n",
              " 'started_at': 1702009598,\n",
              " 'status': 'completed',\n",
              " 'thread_id': 'thread_1flknQB4C8KH4BDYPWsyl0no',\n",
              " 'tools': []}"
            ]
          },
          "metadata": {}
        }
      ]
    },
    {
      "cell_type": "code",
      "source": [
        "# Now that the Run has completed, list the Messages in the Thread to see what got added by the Assistant.\n",
        "\n",
        "messages = client.beta.threads.messages.list(thread_id=thread.id)\n",
        "show_json(messages)"
      ],
      "metadata": {
        "colab": {
          "base_uri": "https://localhost:8080/",
          "height": 517
        },
        "id": "QGxoMbg8qTzF",
        "outputId": "f339cc41-3a5c-4aca-f1ac-82b6b24b15d1"
      },
      "execution_count": 32,
      "outputs": [
        {
          "output_type": "display_data",
          "data": {
            "text/plain": [
              "{'data': [{'id': 'msg_WhzkHcPnszsmbdrn0H5Ugl7I',\n",
              "   'assistant_id': 'asst_qlaTYRSyl9EWeftjKSskdaco',\n",
              "   'content': [{'text': {'annotations': [],\n",
              "      'value': 'The United States of America was founded in 1776, with the adoption of the Declaration of Independence on July 4th of that year.'},\n",
              "     'type': 'text'}],\n",
              "   'created_at': 1702009604,\n",
              "   'file_ids': [],\n",
              "   'metadata': {},\n",
              "   'object': 'thread.message',\n",
              "   'role': 'assistant',\n",
              "   'run_id': 'run_PnwSECkqDDdjWkQ5P7Hcyfor',\n",
              "   'thread_id': 'thread_1flknQB4C8KH4BDYPWsyl0no'},\n",
              "  {'id': 'msg_5xOq4FV38cS98ohBpQPbpUiE',\n",
              "   'assistant_id': None,\n",
              "   'content': [{'text': {'annotations': [],\n",
              "      'value': 'What year was the USA founded?'},\n",
              "     'type': 'text'}],\n",
              "   'created_at': 1702009591,\n",
              "   'file_ids': [],\n",
              "   'metadata': {},\n",
              "   'object': 'thread.message',\n",
              "   'role': 'user',\n",
              "   'run_id': None,\n",
              "   'thread_id': 'thread_1flknQB4C8KH4BDYPWsyl0no'}],\n",
              " 'object': 'list',\n",
              " 'first_id': 'msg_WhzkHcPnszsmbdrn0H5Ugl7I',\n",
              " 'last_id': 'msg_5xOq4FV38cS98ohBpQPbpUiE',\n",
              " 'has_more': False}"
            ]
          },
          "metadata": {}
        }
      ]
    },
    {
      "cell_type": "code",
      "source": [
        "# Create a message to append to our thread\n",
        "message = client.beta.threads.messages.create(\n",
        "    thread_id=thread.id, role=\"user\", content=\"Could you give me a little more detail on this?\"\n",
        ")\n",
        "\n",
        "# Execute our run\n",
        "run = client.beta.threads.runs.create(\n",
        "    thread_id=thread.id,\n",
        "    assistant_id=assistant.id,\n",
        ")\n",
        "\n",
        "# Wait for completion\n",
        "wait_on_run(run, thread)\n",
        "\n",
        "# Retrieve all the messages added after our last user message\n",
        "messages = client.beta.threads.messages.list(\n",
        "    thread_id=thread.id, order=\"asc\", after=message.id\n",
        ")\n",
        "show_json(messages)"
      ],
      "metadata": {
        "colab": {
          "base_uri": "https://localhost:8080/",
          "height": 321
        },
        "id": "qyl8XjRkrG6f",
        "outputId": "36917c1d-a7f8-434e-c4b9-e1c9f0215daa"
      },
      "execution_count": 33,
      "outputs": [
        {
          "output_type": "display_data",
          "data": {
            "text/plain": [
              "{'data': [{'id': 'msg_oIOfuARjk20zZRn6lAytf0Hz',\n",
              "   'assistant_id': 'asst_qlaTYRSyl9EWeftjKSskdaco',\n",
              "   'content': [{'text': {'annotations': [],\n",
              "      'value': 'Certainly! The founding of the USA is marked by the Declaration of Independence, which was ratified by the Continental Congress on July 4, 1776. This act declared the thirteen American colonies free and independent states, breaking away from British rule.'},\n",
              "     'type': 'text'}],\n",
              "   'created_at': 1702009645,\n",
              "   'file_ids': [],\n",
              "   'metadata': {},\n",
              "   'object': 'thread.message',\n",
              "   'role': 'assistant',\n",
              "   'run_id': 'run_9dWR1QFrN983q1AG1cjcQ9Le',\n",
              "   'thread_id': 'thread_1flknQB4C8KH4BDYPWsyl0no'}],\n",
              " 'object': 'list',\n",
              " 'first_id': 'msg_oIOfuARjk20zZRn6lAytf0Hz',\n",
              " 'last_id': 'msg_oIOfuARjk20zZRn6lAytf0Hz',\n",
              " 'has_more': False}"
            ]
          },
          "metadata": {}
        }
      ]
    },
    {
      "cell_type": "code",
      "source": [
        "# Now that the Run has completed, list the Messages in the Thread to see what got added by the Assistant.\n",
        "\n",
        "messages = client.beta.threads.messages.list(thread_id=thread.id)\n",
        "show_json(messages)"
      ],
      "metadata": {
        "colab": {
          "base_uri": "https://localhost:8080/",
          "height": 964
        },
        "id": "ZPYt3uIgrk3c",
        "outputId": "633c8255-fff5-4e09-9a8b-6c2dd16ec5a6"
      },
      "execution_count": 34,
      "outputs": [
        {
          "output_type": "display_data",
          "data": {
            "text/plain": [
              "{'data': [{'id': 'msg_oIOfuARjk20zZRn6lAytf0Hz',\n",
              "   'assistant_id': 'asst_qlaTYRSyl9EWeftjKSskdaco',\n",
              "   'content': [{'text': {'annotations': [],\n",
              "      'value': 'Certainly! The founding of the USA is marked by the Declaration of Independence, which was ratified by the Continental Congress on July 4, 1776. This act declared the thirteen American colonies free and independent states, breaking away from British rule.'},\n",
              "     'type': 'text'}],\n",
              "   'created_at': 1702009645,\n",
              "   'file_ids': [],\n",
              "   'metadata': {},\n",
              "   'object': 'thread.message',\n",
              "   'role': 'assistant',\n",
              "   'run_id': 'run_9dWR1QFrN983q1AG1cjcQ9Le',\n",
              "   'thread_id': 'thread_1flknQB4C8KH4BDYPWsyl0no'},\n",
              "  {'id': 'msg_dDeGGSj4w3CIVRd5hsQpGHmF',\n",
              "   'assistant_id': None,\n",
              "   'content': [{'text': {'annotations': [],\n",
              "      'value': 'Could you give me a little more detail on this?'},\n",
              "     'type': 'text'}],\n",
              "   'created_at': 1702009643,\n",
              "   'file_ids': [],\n",
              "   'metadata': {},\n",
              "   'object': 'thread.message',\n",
              "   'role': 'user',\n",
              "   'run_id': None,\n",
              "   'thread_id': 'thread_1flknQB4C8KH4BDYPWsyl0no'},\n",
              "  {'id': 'msg_WhzkHcPnszsmbdrn0H5Ugl7I',\n",
              "   'assistant_id': 'asst_qlaTYRSyl9EWeftjKSskdaco',\n",
              "   'content': [{'text': {'annotations': [],\n",
              "      'value': 'The United States of America was founded in 1776, with the adoption of the Declaration of Independence on July 4th of that year.'},\n",
              "     'type': 'text'}],\n",
              "   'created_at': 1702009604,\n",
              "   'file_ids': [],\n",
              "   'metadata': {},\n",
              "   'object': 'thread.message',\n",
              "   'role': 'assistant',\n",
              "   'run_id': 'run_PnwSECkqDDdjWkQ5P7Hcyfor',\n",
              "   'thread_id': 'thread_1flknQB4C8KH4BDYPWsyl0no'},\n",
              "  {'id': 'msg_5xOq4FV38cS98ohBpQPbpUiE',\n",
              "   'assistant_id': None,\n",
              "   'content': [{'text': {'annotations': [],\n",
              "      'value': 'What year was the USA founded?'},\n",
              "     'type': 'text'}],\n",
              "   'created_at': 1702009591,\n",
              "   'file_ids': [],\n",
              "   'metadata': {},\n",
              "   'object': 'thread.message',\n",
              "   'role': 'user',\n",
              "   'run_id': None,\n",
              "   'thread_id': 'thread_1flknQB4C8KH4BDYPWsyl0no'}],\n",
              " 'object': 'list',\n",
              " 'first_id': 'msg_oIOfuARjk20zZRn6lAytf0Hz',\n",
              " 'last_id': 'msg_5xOq4FV38cS98ohBpQPbpUiE',\n",
              " 'has_more': False}"
            ]
          },
          "metadata": {}
        }
      ]
    }
  ]
}